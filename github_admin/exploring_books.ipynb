{
 "cells": [
  {
   "cell_type": "markdown",
   "id": "40d931f0-87fa-4a4d-9b76-a85737a615c8",
   "metadata": {},
   "source": [
    "## Interactuando con Github"
   ]
  },
  {
   "cell_type": "code",
   "execution_count": 2,
   "id": "ab711c0e-d319-4c9d-894f-fa962b614ad9",
   "metadata": {},
   "outputs": [],
   "source": [
    "from github import Github\n",
    "import os\n",
    "from dotenv import load_dotenv, find_dotenv\n",
    "from time import sleep\n",
    "import re\n",
    "import unicodedata\n",
    "import json\n",
    "import pickle\n",
    "\n",
    "load_dotenv(find_dotenv())\n",
    "\n",
    "\n",
    "git_key = os.getenv(\"GITHUB_ADMIN_TOKEN\")\n",
    "g = Github(git_key)\n",
    "\n",
    "def download_github_data():\n",
    "    with open(\"files/github_books.pkl\", \"wb\") as file:\n",
    "        books = _get_books()\n",
    "        pickle.dump(books, file)\n",
    "\n",
    "\n",
    "def load_github_data():\n",
    "    books = []\n",
    "    with open(\"files/github_books.pkl\", \"rb\") as file:\n",
    "        try:\n",
    "            while True:\n",
    "                books.append(pickle.load(file))\n",
    "        except EOFError:\n",
    "            return books[0]\n",
    "        \n",
    "def _get_books():\n",
    "    \"\"\"Comprueba si un repositorio tiene archivo SUMMARY.md, indicativo de que\n",
    "    se trata de un Gitbook.\n",
    "\n",
    "    Devuelve:\n",
    "        listado de gitbook de la organización CATEDU.\n",
    "    \"\"\"\n",
    "    global g\n",
    "    repos = list(g.get_organization(\"catedu\").get_repos())\n",
    "    gitbooks = [repo for repo in repos if _has_summary(repo)]\n",
    "    return gitbooks\n",
    "\n",
    "def _has_summary(repo):\n",
    "    \"\"\"Comprueba si un repositorio tiene archivo SUMMARY.md, indicativo de que\n",
    "    se trata de un Gitbook.\n",
    "\n",
    "    Parámetros:\n",
    "        repo (Objeto PyGithub que representa un repositorio)\n",
    "\n",
    "    Devuelve:\n",
    "        True or False (Boolean) indicando si tiene o no SUMMARY.md\n",
    "    \"\"\"\n",
    "    try:\n",
    "        contents = [content.name for content in repo.get_contents(\"\")]\n",
    "        it_has_summary = \"SUMMARY.md\" in contents\n",
    "        return it_has_summary\n",
    "    except:\n",
    "        print(f\"######### El repo {repo.name} falla #############\")\n",
    "        \n",
    "def repos_data():\n",
    "    books = load_github_data()\n",
    "    data = [\n",
    "        {\n",
    "            \"repo_name\": book.name,\n",
    "            \"master_url\": book.html_url,\n",
    "            \"gh-pages\": f\"https://catedu.github.io/{book.name}/\",\n",
    "        }\n",
    "        for book in books\n",
    "    ]\n",
    "    return data"
   ]
  },
  {
   "cell_type": "code",
   "execution_count": 2,
   "id": "85f5d1a2-487b-4a85-9b8a-9ef7d08944ad",
   "metadata": {},
   "outputs": [],
   "source": [
    "download_github_data()"
   ]
  },
  {
   "cell_type": "code",
   "execution_count": 3,
   "id": "243219f6-42c4-4a3c-af78-a93445b20dac",
   "metadata": {},
   "outputs": [],
   "source": [
    "books = load_github_data()"
   ]
  },
  {
   "cell_type": "code",
   "execution_count": 4,
   "id": "0309421d-7a15-48da-8a00-8702155df00e",
   "metadata": {
    "tags": []
   },
   "outputs": [
    {
     "data": {
      "text/plain": [
       "Repository(full_name=\"catedu/robotica-educativa-con-mbot-II\")"
      ]
     },
     "execution_count": 4,
     "metadata": {},
     "output_type": "execute_result"
    }
   ],
   "source": [
    "books[30]"
   ]
  },
  {
   "cell_type": "markdown",
   "id": "03f16ac2-277c-454a-8ae8-bd07c00ba3c6",
   "metadata": {},
   "source": [
    "## Importar libros de Github a Wagtail\n",
    "\n",
    "Para esta tarea tenemos que:\n",
    "\n",
    "1. Descargar el SUMMARY.md de cada libro\n",
    "2. Por cada apartado guardar:\n",
    "  * Orden\n",
    "  * Nivel de subapartado\n",
    "  * Título\n",
    "  * Ruta del archivo.md\n",
    "3. Cambiar de rama a gh-pages:\n",
    "  * Obtener el html de cada archivo\n",
    "  * Descargar imágenes.\n",
    "    * Si es ruta absoluta, comprobar si viene del mismo repo y bajar\n",
    "  * Guardar html, sustituyendo la ruta de los archivos locales.\n",
    "4. Crear páginas en Wagtail dividiendo html y bloques de código"
   ]
  },
  {
   "cell_type": "markdown",
   "id": "cb0d5c88-93d9-44c4-8c72-bbf49664887b",
   "metadata": {},
   "source": [
    "### Obteniendo el índice"
   ]
  },
  {
   "cell_type": "markdown",
   "id": "a3279121-9b1e-4757-98a7-7ef79db675b6",
   "metadata": {},
   "source": [
    "#### Mediante API"
   ]
  },
  {
   "cell_type": "code",
   "execution_count": 37,
   "id": "96a3fc2a-3a6b-438f-9cca-a7090639d82e",
   "metadata": {},
   "outputs": [
    {
     "data": {
      "text/plain": [
       "[{'nivel': 2, 'ruta_archivo': 'README.md', 'titulo': 'Introducción'},\n",
       " {'nivel': 1, 'ruta_archivo': None, 'titulo': '1. Veamos ejemplos'},\n",
       " {'nivel': 2, 'ruta_archivo': 'index0.md', 'titulo': 'M1 mBot plus'},\n",
       " {'nivel': 2, 'ruta_archivo': 'repaso_de_mbot.md', 'titulo': 'Repaso de mBot'},\n",
       " {'nivel': 2, 'ruta_archivo': 'robot_polilla.md', 'titulo': 'Robot polilla'},\n",
       " {'nivel': 2,\n",
       "  'ruta_archivo': 'comedinosaurio.md',\n",
       "  'titulo': 'Come-dinosaurio'},\n",
       " {'nivel': 2,\n",
       "  'ruta_archivo': 'seguir_circuito_y_ultrasonidos.md',\n",
       "  'titulo': 'Seguir circuito y ultrasonidos'},\n",
       " {'nivel': 2, 'ruta_archivo': 'evitar_caerse.md', 'titulo': 'Evitar caerse'},\n",
       " {'nivel': 2, 'ruta_archivo': 'radar.md', 'titulo': 'Radar'},\n",
       " {'nivel': 2,\n",
       "  'ruta_archivo': 'matemticas_y_robtica.md',\n",
       "  'titulo': 'Matemáticas y robótica'},\n",
       " {'nivel': 2,\n",
       "  'ruta_archivo': 'mbot_en_infantil.md',\n",
       "  'titulo': 'mBot en Infantil'},\n",
       " {'nivel': 2,\n",
       "  'ruta_archivo': 'al_infinito_y_ms_all.md',\n",
       "  'titulo': 'Al infinito y más allá...'},\n",
       " {'nivel': 1, 'ruta_archivo': None, 'titulo': '2. Módulos y accesorios'},\n",
       " {'nivel': 2, 'ruta_archivo': 'index1.md', 'titulo': 'M2 mBot plus'},\n",
       " {'nivel': 2,\n",
       "  'ruta_archivo': 'acelermetro_y_gyro_3_ejes.md',\n",
       "  'titulo': 'Acelerómetro y Gyro 3 ejes'},\n",
       " {'nivel': 2, 'ruta_archivo': 'potencimetro.md', 'titulo': 'Potenciómetro'},\n",
       " {'nivel': 2, 'ruta_archivo': 'sensor_sonido.md', 'titulo': 'Sensor sonido'},\n",
       " {'nivel': 2, 'ruta_archivo': 'sensor_ir.md', 'titulo': 'Sensor IR'},\n",
       " {'nivel': 2, 'ruta_archivo': 'sensor_pir.md', 'titulo': 'Sensor PIR'},\n",
       " {'nivel': 1,\n",
       "  'ruta_archivo': None,\n",
       "  'titulo': '3. Escarabajos, brazos y garras'},\n",
       " {'nivel': 2,\n",
       "  'ruta_archivo': 'index2.md',\n",
       "  'titulo': 'M3 plus servos, garras y escarabajos'},\n",
       " {'nivel': 2, 'ruta_archivo': 'escarabajos.md', 'titulo': 'Escarabajos'},\n",
       " {'nivel': 2,\n",
       "  'ruta_archivo': 'ojo_con_los_servos.md',\n",
       "  'titulo': 'Ojo con los servos'},\n",
       " {'nivel': 2,\n",
       "  'ruta_archivo': 'garra_y_el_brazo_articulado.md',\n",
       "  'titulo': 'Garra y el brazo articulado'},\n",
       " {'nivel': 3,\n",
       "  'ruta_archivo': 'tira_latas_con_teclado.md',\n",
       "  'titulo': 'Tira latas con teclado'},\n",
       " {'nivel': 3,\n",
       "  'ruta_archivo': 'tira_latas_con_mando.md',\n",
       "  'titulo': 'Tira latas con mando'},\n",
       " {'nivel': 3,\n",
       "  'ruta_archivo': 'tira_latas_automtico.md',\n",
       "  'titulo': 'Tira latas automático'},\n",
       " {'nivel': 2,\n",
       "  'ruta_archivo': 'grupo-robotica-educativa-aragon.md',\n",
       "  'titulo': 'Grupo Robótica Educativa Aragón'}]"
      ]
     },
     "execution_count": 37,
     "metadata": {},
     "output_type": "execute_result"
    }
   ],
   "source": [
    "import re\n",
    "import pprint\n",
    "\n",
    "def get_summary(book):\n",
    "    summary = book.get_contents(\"SUMMARY.md\")\n",
    "    summary = summary.decoded_content.decode().split(\"\\n\")\n",
    "    summary = [item for item in summary \n",
    "               if item != \"\" \n",
    "               and item != \"# Summary\"\n",
    "               and not item.startswith(\"* [Créditos]\")\n",
    "              ]\n",
    "    return summary\n",
    "\n",
    "def save_index(summary_string):\n",
    "    ruta_y_titulo = re.compile(r\"\\* \\[(.*)\\]\\((.*)\\)\")\n",
    "    index = []\n",
    "    # Calculando el nivel de indentación según el número de espacios\n",
    "    niveles = {\"0\": 2, \"2\": 3, \"4\": 4, \"6\": 5}\n",
    "\n",
    "    for line in summary:\n",
    "        if line.startswith(\"##\"):\n",
    "            item = {\"nivel\": 1}\n",
    "            item[\"ruta_archivo\"] = None\n",
    "            item[\"titulo\"] = line.strip(\"## \")\n",
    "            index.append(item)\n",
    "        else:\n",
    "            leading_spaces = str(len(line) - len(line.lstrip(\" \")))\n",
    "            item = {\"nivel\": niveles[leading_spaces]}\n",
    "            item[\"ruta_archivo\"] = ruta_y_titulo.findall(line)[0][1]\n",
    "            item[\"titulo\"] = ruta_y_titulo.findall(line)[0][0]\n",
    "            index.append(item)\n",
    "    \n",
    "    return index\n",
    "\n",
    "summary = get_summary(books[30])\n",
    "save_index(summary)"
   ]
  },
  {
   "cell_type": "markdown",
   "id": "25c3fc0a-1816-45e5-a301-ca6e78ea13c3",
   "metadata": {},
   "source": [
    "#### Scrapeando"
   ]
  },
  {
   "cell_type": "code",
   "execution_count": 6,
   "id": "cecdc800-1101-4ec8-b0bf-ab9b34e4e4cf",
   "metadata": {},
   "outputs": [],
   "source": [
    "import mechanicalsoup\n",
    "browser = mechanicalsoup.StatefulBrowser()\n",
    "\n",
    "browser.open(\"https://catedu.github.io/introduccion-a-python/\")\n",
    "index = browser.page.find(\"ul\", class_=\"summary\").find_all(\"li\")\n",
    "content = browser.page.find(\"section\", class_=\"markdown-section\")"
   ]
  },
  {
   "cell_type": "code",
   "execution_count": 7,
   "id": "fce9ef32-53aa-43c5-ad81-9785fc3c865d",
   "metadata": {},
   "outputs": [],
   "source": [
    "tag = browser.page.find(\"ul\", class_=\"summary\")\n",
    "index = [li.attrs for li in tag.find_all(\"li\") if len(li.attrs.keys()) > 0]"
   ]
  },
  {
   "cell_type": "code",
   "execution_count": 8,
   "id": "56a380ee-ed91-4c66-be84-ee57dd494cd3",
   "metadata": {},
   "outputs": [],
   "source": [
    "for page in index:\n",
    "    if \"chapter\" in page[\"class\"]:\n",
    "        base_url = f\"https://catedu.github.io/introduccion-a-python/\"\n",
    "        url = page[\"data-path\"] if page[\"data-path\"] != \"./\" else \"\"\n",
    "        browser.open(base_url + url)\n",
    "        page[\"content\"] = browser.page.find(\"section\", class_=\"markdown-section\").decode_contents()"
   ]
  },
  {
   "cell_type": "markdown",
   "id": "197645a7-1c3d-4443-a99c-994d0cba8766",
   "metadata": {},
   "source": [
    "### Descargando imágenes"
   ]
  },
  {
   "cell_type": "markdown",
   "id": "a1c02308-3b96-4ea6-b749-14b4d9c71c36",
   "metadata": {},
   "source": [
    "#### Mediante API"
   ]
  },
  {
   "cell_type": "code",
   "execution_count": 20,
   "id": "40ba23bd-4580-4a80-92cb-2e0f4776b3e8",
   "metadata": {
    "collapsed": true,
    "jupyter": {
     "outputs_hidden": true
    },
    "tags": []
   },
   "outputs": [
    {
     "name": "stdout",
     "output_type": "stream",
     "text": [
      "https://raw.githubusercontent.com/catedu/abies-lectores/master/.gitignore\n",
      "https://raw.githubusercontent.com/catedu/abies-lectores/master/.nojekyll\n",
      "https://raw.githubusercontent.com/catedu/abies-lectores/master/FOOTER.md\n",
      "https://raw.githubusercontent.com/catedu/abies-lectores/master/LICENSE\n",
      "https://raw.githubusercontent.com/catedu/abies-lectores/master/README.md\n",
      "https://raw.githubusercontent.com/catedu/abies-lectores/master/SUMMARY.md\n",
      "https://raw.githubusercontent.com/catedu/abies-lectores/master/book.json\n",
      "https://raw.githubusercontent.com/catedu/abies-lectores/master/consultar_catlogos_de_otras_bibliotecas.md\n",
      "https://raw.githubusercontent.com/catedu/abies-lectores/master/consultar_el_catlogo_de_fondos_de_la_biblioteca_de_mi_centro.md\n",
      "https://raw.githubusercontent.com/catedu/abies-lectores/master/crditos.md\n",
      "https://raw.githubusercontent.com/catedu/abies-lectores/master/darme_de_alta_en_abiesweb_para_usar_la_biblioteca_de_mi_centro_escolar.md\n",
      "https://raw.githubusercontent.com/catedu/abies-lectores/master/escribir_una_opinin_sobre_algn_fondo_de_los_que_hemos_tomado_en_prstamo.md\n",
      "https://raw.githubusercontent.com/catedu/abies-lectores/master/modificar_mi_contrasea_de_acceso.md\n",
      "https://raw.githubusercontent.com/catedu/abies-lectores/master/realizar_reservas_de_ejemplares.md\n",
      "https://raw.githubusercontent.com/catedu/abies-lectores/master/seguir_las_noticias_de_la_biblioteca_de_mi_centro.md\n",
      "https://raw.githubusercontent.com/catedu/abies-lectores/master/solicitar_una_prrroga_del_prstamo_actual.md\n",
      "https://raw.githubusercontent.com/catedu/abies-lectores/master/img/Boletin.JPG\n",
      "https://raw.githubusercontent.com/catedu/abies-lectores/master/img/BusquedaEjemplaresLEctor.JPG\n",
      "https://raw.githubusercontent.com/catedu/abies-lectores/master/img/BusquedaEnRed.JPG\n",
      "https://raw.githubusercontent.com/catedu/abies-lectores/master/img/ListadoCatalogoLector.JPG\n",
      "https://raw.githubusercontent.com/catedu/abies-lectores/master/img/RegistroHabilitado.JPG\n",
      "https://raw.githubusercontent.com/catedu/abies-lectores/master/img/Reservas_Activas.JPG\n",
      "https://raw.githubusercontent.com/catedu/abies-lectores/master/img/SolicitudAlta.JPG\n",
      "https://raw.githubusercontent.com/catedu/abies-lectores/master/img/abies_web_md.jpg\n",
      "https://raw.githubusercontent.com/catedu/abies-lectores/master/img/cambiarcontrasena.JPG\n",
      "https://raw.githubusercontent.com/catedu/abies-lectores/master/img/catalogobusquedalector.JPG\n",
      "https://raw.githubusercontent.com/catedu/abies-lectores/master/img/configuracionpersonal.JPG\n",
      "https://raw.githubusercontent.com/catedu/abies-lectores/master/img/consultarOpiniones.JPG\n",
      "https://raw.githubusercontent.com/catedu/abies-lectores/master/img/historialLecturas.JPG\n",
      "https://raw.githubusercontent.com/catedu/abies-lectores/master/img/iconoReservar.JPG\n",
      "https://raw.githubusercontent.com/catedu/abies-lectores/master/img/misprestamos.JPG\n",
      "https://raw.githubusercontent.com/catedu/abies-lectores/master/img/opiniar.JPG\n",
      "https://raw.githubusercontent.com/catedu/abies-lectores/master/img/prestamoslectores.JPG\n",
      "https://raw.githubusercontent.com/catedu/abies-lectores/master/img/prorroga.JPG\n",
      "https://raw.githubusercontent.com/catedu/abies-lectores/master/.github/workflows/gitbook-action.yml\n"
     ]
    }
   ],
   "source": [
    "contents = books[0].get_contents(\"\")\n",
    "\n",
    "while contents:\n",
    "    file_content = contents.pop(0)\n",
    "    if file_content.type == \"dir\":\n",
    "        contents.extend(books[0].get_contents(file_content.path))\n",
    "    else:\n",
    "        print(file_content.download_url)"
   ]
  },
  {
   "cell_type": "code",
   "execution_count": 23,
   "id": "9adec4d7-839d-4251-8270-2b7f5d654c3d",
   "metadata": {},
   "outputs": [
    {
     "data": {
      "text/plain": [
       "0"
      ]
     },
     "execution_count": 23,
     "metadata": {},
     "output_type": "execute_result"
    }
   ],
   "source": [
    "os.system(\"you-get -o files -O test https://raw.githubusercontent.com/catedu/abies-lectores/master/img/consultarOpiniones.JPG\")"
   ]
  },
  {
   "cell_type": "markdown",
   "id": "44276dfd-0fc7-41d1-9072-5d02ce0ddd4b",
   "metadata": {},
   "source": [
    "#### Scrapeando"
   ]
  },
  {
   "cell_type": "code",
   "execution_count": 9,
   "id": "ef000b81-56fd-4f2b-8f1c-78fbbc740189",
   "metadata": {},
   "outputs": [
    {
     "data": {
      "text/plain": [
       "<Response [200]>"
      ]
     },
     "execution_count": 9,
     "metadata": {},
     "output_type": "execute_result"
    }
   ],
   "source": [
    "browser.open(\"https://catedu.github.io/introduccion-a-python/reflexin_inicial.html\")"
   ]
  },
  {
   "cell_type": "code",
   "execution_count": 10,
   "id": "b9a4df0f-7ddb-4e2c-83a9-b36f989d6aec",
   "metadata": {},
   "outputs": [],
   "source": [
    "img = browser.page.find_all(\"img\")[0][\"src\"]"
   ]
  },
  {
   "cell_type": "code",
   "execution_count": 13,
   "id": "f9d14e8a-1277-4a49-bcad-3a192ef33f82",
   "metadata": {},
   "outputs": [
    {
     "data": {
      "text/plain": [
       "'img/usuario_vs_informaticos_thumb[3].png'"
      ]
     },
     "execution_count": 13,
     "metadata": {},
     "output_type": "execute_result"
    }
   ],
   "source": [
    "img"
   ]
  },
  {
   "cell_type": "code",
   "execution_count": 15,
   "id": "bb8fe14a-b802-4377-9e9c-cf8cf4447442",
   "metadata": {
    "tags": []
   },
   "outputs": [
    {
     "data": {
      "text/plain": [
       "0"
      ]
     },
     "execution_count": 15,
     "metadata": {},
     "output_type": "execute_result"
    }
   ],
   "source": [
    "base_url = \"https://catedu.github.io/introduccion-a-python/\"\n",
    "os.system(f'you-get -o files -O {img.split(\"/\")[1]} {base_url}{img}')"
   ]
  },
  {
   "cell_type": "code",
   "execution_count": 130,
   "id": "a1534303-d613-471c-80ce-7e9dcba81e7f",
   "metadata": {},
   "outputs": [
    {
     "data": {
      "text/plain": [
       "'you-get https://catedu.github.io/introduccion-a-python/img/usuario_vs_informaticos_thumb[3].png'"
      ]
     },
     "execution_count": 130,
     "metadata": {},
     "output_type": "execute_result"
    }
   ],
   "source": [
    "f\"you-get {base_url}{img}\""
   ]
  },
  {
   "cell_type": "code",
   "execution_count": null,
   "id": "109b21d6-9416-441c-80b2-60875d9f81ec",
   "metadata": {},
   "outputs": [],
   "source": []
  }
 ],
 "metadata": {
  "kernelspec": {
   "display_name": "Django Shell-Plus",
   "language": "python",
   "name": "django_extensions"
  },
  "language_info": {
   "codemirror_mode": {
    "name": "ipython",
    "version": 3
   },
   "file_extension": ".py",
   "mimetype": "text/x-python",
   "name": "python",
   "nbconvert_exporter": "python",
   "pygments_lexer": "ipython3",
   "version": "3.8.5"
  },
  "toc-showtags": false
 },
 "nbformat": 4,
 "nbformat_minor": 5
}
