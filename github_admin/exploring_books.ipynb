{
 "cells": [
  {
   "cell_type": "markdown",
   "id": "40d931f0-87fa-4a4d-9b76-a85737a615c8",
   "metadata": {},
   "source": [
    "## Interactuando con Github"
   ]
  },
  {
   "cell_type": "code",
   "execution_count": 6,
   "id": "ab711c0e-d319-4c9d-894f-fa962b614ad9",
   "metadata": {},
   "outputs": [],
   "source": [
    "from github import Github\n",
    "import os\n",
    "from dotenv import load_dotenv, find_dotenv\n",
    "from time import sleep\n",
    "import re\n",
    "import unicodedata\n",
    "import json\n",
    "import pickle\n",
    "\n",
    "load_dotenv(find_dotenv())\n",
    "\n",
    "\n",
    "git_key = os.getenv(\"GITHUB_ADMIN_TOKEN\")\n",
    "g = Github(git_key)\n",
    "\n",
    "def download_github_data():\n",
    "    with open(\"github_admin/files/github_books.pkl\", \"wb\") as file:\n",
    "        books = _get_books()\n",
    "        pickle.dump(books, file)\n",
    "\n",
    "\n",
    "def load_github_data():\n",
    "    books = []\n",
    "    with open(\"files/github_books.pkl\", \"rb\") as file:\n",
    "        try:\n",
    "            while True:\n",
    "                books.append(pickle.load(file))\n",
    "        except EOFError:\n",
    "            return books[0]\n",
    "        \n",
    "def _get_books():\n",
    "    \"\"\"Comprueba si un repositorio tiene archivo SUMMARY.md, indicativo de que\n",
    "    se trata de un Gitbook.\n",
    "\n",
    "    Devuelve:\n",
    "        listado de gitbook de la organización CATEDU.\n",
    "    \"\"\"\n",
    "    global g\n",
    "    repos = list(g.get_organization(\"catedu\").get_repos())\n",
    "    gitbooks = [repo for repo in repos if _has_summary(repo)]\n",
    "    return gitbooks\n",
    "\n",
    "def _has_summary(repo):\n",
    "    \"\"\"Comprueba si un repositorio tiene archivo SUMMARY.md, indicativo de que\n",
    "    se trata de un Gitbook.\n",
    "\n",
    "    Parámetros:\n",
    "        repo (Objeto PyGithub que representa un repositorio)\n",
    "\n",
    "    Devuelve:\n",
    "        True or False (Boolean) indicando si tiene o no SUMMARY.md\n",
    "    \"\"\"\n",
    "    try:\n",
    "        contents = [content.name for content in repo.get_contents(\"\")]\n",
    "        it_has_summary = \"SUMMARY.md\" in contents\n",
    "        return it_has_summary\n",
    "    except:\n",
    "        print(f\"######### El repo {repo.name} falla #############\")\n",
    "        \n",
    "def repos_data():\n",
    "    books = load_github_data()\n",
    "    data = [\n",
    "        {\n",
    "            \"repo_name\": book.name,\n",
    "            \"master_url\": book.html_url,\n",
    "            \"gh-pages\": f\"https://catedu.github.io/{book.name}/\",\n",
    "        }\n",
    "        for book in books\n",
    "    ]\n",
    "    return data"
   ]
  },
  {
   "cell_type": "code",
   "execution_count": 12,
   "id": "85f5d1a2-487b-4a85-9b8a-9ef7d08944ad",
   "metadata": {},
   "outputs": [],
   "source": [
    "download_github_data()"
   ]
  },
  {
   "cell_type": "code",
   "execution_count": 7,
   "id": "243219f6-42c4-4a3c-af78-a93445b20dac",
   "metadata": {},
   "outputs": [],
   "source": [
    "books = load_github_data()"
   ]
  },
  {
   "cell_type": "code",
   "execution_count": 20,
   "id": "7eb14549-8d1f-4238-be38-3c0812d6234b",
   "metadata": {},
   "outputs": [
    {
     "data": {
      "text/plain": [
       "'abies-lectores,monta-tu-aula-de-informatica-con-raspberry-pi,la-ensenanza-aprendizaje-de-la-flauta-escolar,google_classroom,curso_de_edmodo,faq-aularagon,curso_linux,matematicas-tic,sintaxis_con_las_tic,procedimiento-administrativo,curso-de-tutores,manual-de-creadores,metodologias-activas-didactica-y-evaluacion,radio,app-inventor-course,abies-administrador,video-tutoriales,ensena-pensamiento-computacional-con-arduino,ensena-pensamiento-computacional-con-wego-wedo,ensena-pensamiento-computacional-con-scratch,scratch-avanzado-y-makey-makey,introduccion-a-python,libreOffice-la-suite-ofimatica-libre,libreoffice-base-curso,libreoffice-writer-curso,libreoffice-calc-curso,libreoffice-impress-curso,libreoffice-draw-math,programa-arduino-mediante-codigo,robotica-educativa-con-mbot,robotica-educativa-con-mbot-II,robotica-en-infantil-con-bee-bot,scribus-maqueta-visualmente-tus-contenidos-educativos,aprendizaje-colaborativo-con-blog,modulo-5-asesores,atrevete-con-wordpress,programa-arduino-con-echidna,curso-arasaac,abp-fp,abp,modulo7-asesores,curso-vitalinux,soportes-informaticos-profesorado,curso-duolingo,curso-codeorg,etwinning,curso-google-drive,hojas-de-calculo,exelearning-y-otras-herramientas,m5-cofo-el-centro-educativo-y-la-formacion-del-pr,m6-cofos,modulo-1-marco-basico-legislativo,convivencia-segura-en-la-red,m6-asesor-inteligencia-emocional-y-psicologia-pos,curso-moodle,formacion-de-entrada-en-educacion-de-personas-adultas,internet-basico,las-tic-en-el-aula,tic-infantil,lengua-y-literatura-con-las-tic,lenguas-extranjeras-con-las-tic,presentaciones,primeros-auxilios,poo-java,tratamiento-de-la-imagen-digital,uso-didactico-de-la-pdi,word-avanzado-y-otras-herramientas,alfabetizaciones-multiples,intef-narrativa-digital-aula-,intef-neuropsicologia-dificultades-aprendizaje,escornabots-curso,raspberry-muy-basico,el-uso-del-gps-en-monta-a,cartografia-para-montaneros,nociones-de-meteorolog-a-de-montana,alta-montana-segura,alphabot,senderismo,pibrella,flipped-classroom,alimentacion,mobile-learning,Curso-de-funcionarios-en-pr-cticas,google-classroom-2018,microbit-curso,smartcar-micro-bit,herramientas-de-comunicacion-virtual-cooperacion,robotica,menuda-feria-16-03-2019,domotica-con-arduino,rrss-classroom,manualdoceo,manualdoceodocentes,manualdoceocofodir,doceoasesoriascp,aicle_intef,introduccion-a-la-realidad-aumentada,faqdoceo,posicionamiento-seo,sphero-curso,funcipracs_art,funcipracs_0595,funcipracs_0597,inteligencia-artificial-con-scratch,ajedrez-en-la-escuela,resolucion-de-problemas,rea_aicle_inf_y_pri,comunity-manager-educativo,designthinking,art-uino,iniciacion-al-lenguaje-musical-en-primaria,bloque3,los_blogs,guia_basica,cdteams,mod5temp,cdgsuite,guiavidconf,borrar-hangoutsmeet,curso-gestion-aeducar,curso-tipo,ciudadania-digital,curso-cofotac-vitalinux,rover-marciano-alphabot,curso-basico-sigad,basico-impresion3D,curso-arasaac-revision,Rover-arduino'"
      ]
     },
     "execution_count": 20,
     "metadata": {},
     "output_type": "execute_result"
    }
   ],
   "source": [
    "\",\".join([book.name for book in books])"
   ]
  },
  {
   "cell_type": "code",
   "execution_count": 8,
   "id": "40ba23bd-4580-4a80-92cb-2e0f4776b3e8",
   "metadata": {
    "tags": []
   },
   "outputs": [
    {
     "name": "stdout",
     "output_type": "stream",
     "text": [
      "ContentFile(path=\".gitignore\")\n",
      "ContentFile(path=\".nojekyll\")\n",
      "ContentFile(path=\"FOOTER.md\")\n",
      "ContentFile(path=\"LICENSE\")\n",
      "ContentFile(path=\"README.md\")\n",
      "ContentFile(path=\"SUMMARY.md\")\n",
      "ContentFile(path=\"book.json\")\n",
      "ContentFile(path=\"consultar_catlogos_de_otras_bibliotecas.md\")\n",
      "ContentFile(path=\"consultar_el_catlogo_de_fondos_de_la_biblioteca_de_mi_centro.md\")\n",
      "ContentFile(path=\"crditos.md\")\n",
      "ContentFile(path=\"darme_de_alta_en_abiesweb_para_usar_la_biblioteca_de_mi_centro_escolar.md\")\n",
      "ContentFile(path=\"escribir_una_opinin_sobre_algn_fondo_de_los_que_hemos_tomado_en_prstamo.md\")\n",
      "ContentFile(path=\"modificar_mi_contrasea_de_acceso.md\")\n",
      "ContentFile(path=\"realizar_reservas_de_ejemplares.md\")\n",
      "ContentFile(path=\"seguir_las_noticias_de_la_biblioteca_de_mi_centro.md\")\n",
      "ContentFile(path=\"solicitar_una_prrroga_del_prstamo_actual.md\")\n",
      "ContentFile(path=\"img/Boletin.JPG\")\n",
      "ContentFile(path=\"img/BusquedaEjemplaresLEctor.JPG\")\n",
      "ContentFile(path=\"img/BusquedaEnRed.JPG\")\n",
      "ContentFile(path=\"img/ListadoCatalogoLector.JPG\")\n",
      "ContentFile(path=\"img/RegistroHabilitado.JPG\")\n",
      "ContentFile(path=\"img/Reservas_Activas.JPG\")\n",
      "ContentFile(path=\"img/SolicitudAlta.JPG\")\n",
      "ContentFile(path=\"img/abies_web_md.jpg\")\n",
      "ContentFile(path=\"img/cambiarcontrasena.JPG\")\n",
      "ContentFile(path=\"img/catalogobusquedalector.JPG\")\n",
      "ContentFile(path=\"img/configuracionpersonal.JPG\")\n",
      "ContentFile(path=\"img/consultarOpiniones.JPG\")\n",
      "ContentFile(path=\"img/historialLecturas.JPG\")\n",
      "ContentFile(path=\"img/iconoReservar.JPG\")\n",
      "ContentFile(path=\"img/misprestamos.JPG\")\n",
      "ContentFile(path=\"img/opiniar.JPG\")\n",
      "ContentFile(path=\"img/prestamoslectores.JPG\")\n",
      "ContentFile(path=\"img/prorroga.JPG\")\n",
      "ContentFile(path=\".github/workflows/gitbook-action.yml\")\n"
     ]
    }
   ],
   "source": [
    "contents = books[0].get_contents(\"\")\n",
    "while contents:\n",
    "    file_content = contents.pop(0)\n",
    "    if file_content.type == \"dir\":\n",
    "        contents.extend(books[0].get_contents(file_content.path))\n",
    "    else:\n",
    "        print(file_content)"
   ]
  },
  {
   "cell_type": "code",
   "execution_count": null,
   "id": "df66a24a-1728-46aa-ae5a-a75f49858d56",
   "metadata": {},
   "outputs": [],
   "source": []
  }
 ],
 "metadata": {
  "kernelspec": {
   "display_name": "Django Shell-Plus",
   "language": "python",
   "name": "django_extensions"
  },
  "language_info": {
   "codemirror_mode": {
    "name": "ipython",
    "version": 3
   },
   "file_extension": ".py",
   "mimetype": "text/x-python",
   "name": "python",
   "nbconvert_exporter": "python",
   "pygments_lexer": "ipython3",
   "version": "3.8.5"
  }
 },
 "nbformat": 4,
 "nbformat_minor": 5
}
