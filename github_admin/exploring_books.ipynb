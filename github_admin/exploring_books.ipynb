{
 "cells": [
  {
   "cell_type": "markdown",
   "id": "40d931f0-87fa-4a4d-9b76-a85737a615c8",
   "metadata": {},
   "source": [
    "## Interactuando con Github"
   ]
  },
  {
   "cell_type": "code",
   "execution_count": 1,
   "id": "ab711c0e-d319-4c9d-894f-fa962b614ad9",
   "metadata": {},
   "outputs": [],
   "source": [
    "from github import Github\n",
    "import os\n",
    "from dotenv import load_dotenv, find_dotenv\n",
    "from time import sleep\n",
    "import re\n",
    "import unicodedata\n",
    "import json\n",
    "import pickle\n",
    "\n",
    "load_dotenv(find_dotenv())\n",
    "\n",
    "\n",
    "git_key = os.getenv(\"GITHUB_ADMIN_TOKEN\")\n",
    "g = Github(git_key)\n",
    "\n",
    "def download_github_data():\n",
    "    with open(\"files/github_books.pkl\", \"wb\") as file:\n",
    "        books = _get_books()\n",
    "        pickle.dump(books, file)\n",
    "\n",
    "\n",
    "def load_github_data():\n",
    "    books = []\n",
    "    with open(\"files/github_books.pkl\", \"rb\") as file:\n",
    "        try:\n",
    "            while True:\n",
    "                books.append(pickle.load(file))\n",
    "        except EOFError:\n",
    "            return books[0]\n",
    "        \n",
    "def _get_books():\n",
    "    \"\"\"Comprueba si un repositorio tiene archivo SUMMARY.md, indicativo de que\n",
    "    se trata de un Gitbook.\n",
    "\n",
    "    Devuelve:\n",
    "        listado de gitbook de la organización CATEDU.\n",
    "    \"\"\"\n",
    "    global g\n",
    "    repos = list(g.get_organization(\"catedu\").get_repos())\n",
    "    gitbooks = [repo for repo in repos if _has_summary(repo)]\n",
    "    return gitbooks\n",
    "\n",
    "def _has_summary(repo):\n",
    "    \"\"\"Comprueba si un repositorio tiene archivo SUMMARY.md, indicativo de que\n",
    "    se trata de un Gitbook.\n",
    "\n",
    "    Parámetros:\n",
    "        repo (Objeto PyGithub que representa un repositorio)\n",
    "\n",
    "    Devuelve:\n",
    "        True or False (Boolean) indicando si tiene o no SUMMARY.md\n",
    "    \"\"\"\n",
    "    try:\n",
    "        contents = [content.name for content in repo.get_contents(\"\")]\n",
    "        it_has_summary = \"SUMMARY.md\" in contents\n",
    "        return it_has_summary\n",
    "    except:\n",
    "        print(f\"######### El repo {repo.name} falla #############\")\n",
    "        \n",
    "def repos_data():\n",
    "    books = load_github_data()\n",
    "    data = [\n",
    "        {\n",
    "            \"repo_name\": book.name,\n",
    "            \"master_url\": book.html_url,\n",
    "            \"gh-pages\": f\"https://catedu.github.io/{book.name}/\",\n",
    "        }\n",
    "        for book in books\n",
    "    ]\n",
    "    return data"
   ]
  },
  {
   "cell_type": "code",
   "execution_count": 11,
   "id": "85f5d1a2-487b-4a85-9b8a-9ef7d08944ad",
   "metadata": {},
   "outputs": [],
   "source": [
    "download_github_data()"
   ]
  },
  {
   "cell_type": "code",
   "execution_count": 2,
   "id": "243219f6-42c4-4a3c-af78-a93445b20dac",
   "metadata": {},
   "outputs": [],
   "source": [
    "books = load_github_data()"
   ]
  },
  {
   "cell_type": "code",
   "execution_count": 14,
   "id": "0309421d-7a15-48da-8a00-8702155df00e",
   "metadata": {
    "tags": []
   },
   "outputs": [
    {
     "data": {
      "text/plain": [
       "Repository(full_name=\"catedu/robotica-educativa-con-mbot-II\")"
      ]
     },
     "execution_count": 14,
     "metadata": {},
     "output_type": "execute_result"
    }
   ],
   "source": [
    "books[30]"
   ]
  },
  {
   "cell_type": "markdown",
   "id": "03f16ac2-277c-454a-8ae8-bd07c00ba3c6",
   "metadata": {},
   "source": [
    "## Importar libros de Github a Wagtail\n",
    "\n",
    "Para esta tarea tenemos que:\n",
    "\n",
    "1. Descargar el SUMMARY.md de cada libro\n",
    "2. Por cada apartado guardar:\n",
    "  * Orden\n",
    "  * Título\n",
    "  * Ruta del archivo.md\n",
    "  * Quién es el padre\n",
    "3. Cambiar de rama a gh-pages:\n",
    "  * Obtener el html de cada archivo\n",
    "  * Descargar imágenes.\n",
    "    * Si es ruta absoluta, comprobar si viene del mismo repo y bajar\n",
    "  * Guardar html, sustituyendo la ruta de los archivos locales.\n",
    "4. Crear páginas en Wagtail dividiendo html y bloques de código"
   ]
  },
  {
   "cell_type": "markdown",
   "id": "cb0d5c88-93d9-44c4-8c72-bbf49664887b",
   "metadata": {},
   "source": [
    "### Obteniendo el índice"
   ]
  },
  {
   "cell_type": "code",
   "execution_count": 15,
   "id": "96a3fc2a-3a6b-438f-9cca-a7090639d82e",
   "metadata": {},
   "outputs": [
    {
     "name": "stdout",
     "output_type": "stream",
     "text": [
      "robotica-educativa-con-mbot-II\n"
     ]
    }
   ],
   "source": [
    "def get_summary(book):\n",
    "    summary = book.get_contents(\"SUMMARY.md\")\n",
    "    print(book.name)\n",
    "    return summary\n",
    "\n",
    "summary = get_summary(books[30])"
   ]
  },
  {
   "cell_type": "code",
   "execution_count": 17,
   "id": "60324bc9-ea75-4f4d-9648-bfad29726629",
   "metadata": {},
   "outputs": [
    {
     "data": {
      "text/plain": [
       "['# Summary',\n",
       " '',\n",
       " '* [Introducción](README.md)',\n",
       " '',\n",
       " '## 1. Veamos ejemplos',\n",
       " '',\n",
       " '* [M1 mBot plus](index0.md)',\n",
       " '* [Repaso de mBot](repaso_de_mbot.md)',\n",
       " '* [Robot polilla](robot_polilla.md)',\n",
       " '* [Come-dinosaurio](comedinosaurio.md)',\n",
       " '* [Seguir circuito y ultrasonidos](seguir_circuito_y_ultrasonidos.md)',\n",
       " '* [Evitar caerse](evitar_caerse.md)',\n",
       " '* [Radar](radar.md)',\n",
       " '* [Matemáticas y robótica](matemticas_y_robtica.md)',\n",
       " '* [mBot en Infantil](mbot_en_infantil.md)',\n",
       " '* [Al infinito y más allá...](al_infinito_y_ms_all.md)',\n",
       " '',\n",
       " '## 2. Módulos y accesorios',\n",
       " '',\n",
       " '* [M2 mBot plus](index1.md)',\n",
       " '* [Acelerómetro y Gyro 3 ejes](acelermetro_y_gyro_3_ejes.md)',\n",
       " '* [Potenciómetro](potencimetro.md)',\n",
       " '* [Sensor sonido](sensor_sonido.md)',\n",
       " '* [Sensor IR](sensor_ir.md)',\n",
       " '* [Sensor PIR](sensor_pir.md)',\n",
       " '',\n",
       " '## 3. Escarabajos, brazos y garras',\n",
       " '',\n",
       " '* [M3 plus servos, garras y escarabajos](index2.md)',\n",
       " '* [Escarabajos](escarabajos.md)',\n",
       " '* [Ojo con los servos](ojo_con_los_servos.md)',\n",
       " '* [Garra y el brazo articulado](garra_y_el_brazo_articulado.md)',\n",
       " '  * [Tira latas con teclado](tira_latas_con_teclado.md)',\n",
       " '  * [Tira latas con mando](tira_latas_con_mando.md)',\n",
       " '  * [Tira latas automático](tira_latas_automtico.md)',\n",
       " '* [Grupo Robótica Educativa Aragón](grupo-robotica-educativa-aragon.md)',\n",
       " '* [Créditos](creditos.md)',\n",
       " '',\n",
       " '']"
      ]
     },
     "execution_count": 17,
     "metadata": {},
     "output_type": "execute_result"
    }
   ],
   "source": [
    "summary.decoded_content.decode().split(\"\\n\")"
   ]
  },
  {
   "cell_type": "markdown",
   "id": "197645a7-1c3d-4443-a99c-994d0cba8766",
   "metadata": {},
   "source": [
    "### Descargando imágenes"
   ]
  },
  {
   "cell_type": "code",
   "execution_count": 20,
   "id": "40ba23bd-4580-4a80-92cb-2e0f4776b3e8",
   "metadata": {
    "tags": []
   },
   "outputs": [
    {
     "name": "stdout",
     "output_type": "stream",
     "text": [
      "https://raw.githubusercontent.com/catedu/abies-lectores/master/.gitignore\n",
      "https://raw.githubusercontent.com/catedu/abies-lectores/master/.nojekyll\n",
      "https://raw.githubusercontent.com/catedu/abies-lectores/master/FOOTER.md\n",
      "https://raw.githubusercontent.com/catedu/abies-lectores/master/LICENSE\n",
      "https://raw.githubusercontent.com/catedu/abies-lectores/master/README.md\n",
      "https://raw.githubusercontent.com/catedu/abies-lectores/master/SUMMARY.md\n",
      "https://raw.githubusercontent.com/catedu/abies-lectores/master/book.json\n",
      "https://raw.githubusercontent.com/catedu/abies-lectores/master/consultar_catlogos_de_otras_bibliotecas.md\n",
      "https://raw.githubusercontent.com/catedu/abies-lectores/master/consultar_el_catlogo_de_fondos_de_la_biblioteca_de_mi_centro.md\n",
      "https://raw.githubusercontent.com/catedu/abies-lectores/master/crditos.md\n",
      "https://raw.githubusercontent.com/catedu/abies-lectores/master/darme_de_alta_en_abiesweb_para_usar_la_biblioteca_de_mi_centro_escolar.md\n",
      "https://raw.githubusercontent.com/catedu/abies-lectores/master/escribir_una_opinin_sobre_algn_fondo_de_los_que_hemos_tomado_en_prstamo.md\n",
      "https://raw.githubusercontent.com/catedu/abies-lectores/master/modificar_mi_contrasea_de_acceso.md\n",
      "https://raw.githubusercontent.com/catedu/abies-lectores/master/realizar_reservas_de_ejemplares.md\n",
      "https://raw.githubusercontent.com/catedu/abies-lectores/master/seguir_las_noticias_de_la_biblioteca_de_mi_centro.md\n",
      "https://raw.githubusercontent.com/catedu/abies-lectores/master/solicitar_una_prrroga_del_prstamo_actual.md\n",
      "https://raw.githubusercontent.com/catedu/abies-lectores/master/img/Boletin.JPG\n",
      "https://raw.githubusercontent.com/catedu/abies-lectores/master/img/BusquedaEjemplaresLEctor.JPG\n",
      "https://raw.githubusercontent.com/catedu/abies-lectores/master/img/BusquedaEnRed.JPG\n",
      "https://raw.githubusercontent.com/catedu/abies-lectores/master/img/ListadoCatalogoLector.JPG\n",
      "https://raw.githubusercontent.com/catedu/abies-lectores/master/img/RegistroHabilitado.JPG\n",
      "https://raw.githubusercontent.com/catedu/abies-lectores/master/img/Reservas_Activas.JPG\n",
      "https://raw.githubusercontent.com/catedu/abies-lectores/master/img/SolicitudAlta.JPG\n",
      "https://raw.githubusercontent.com/catedu/abies-lectores/master/img/abies_web_md.jpg\n",
      "https://raw.githubusercontent.com/catedu/abies-lectores/master/img/cambiarcontrasena.JPG\n",
      "https://raw.githubusercontent.com/catedu/abies-lectores/master/img/catalogobusquedalector.JPG\n",
      "https://raw.githubusercontent.com/catedu/abies-lectores/master/img/configuracionpersonal.JPG\n",
      "https://raw.githubusercontent.com/catedu/abies-lectores/master/img/consultarOpiniones.JPG\n",
      "https://raw.githubusercontent.com/catedu/abies-lectores/master/img/historialLecturas.JPG\n",
      "https://raw.githubusercontent.com/catedu/abies-lectores/master/img/iconoReservar.JPG\n",
      "https://raw.githubusercontent.com/catedu/abies-lectores/master/img/misprestamos.JPG\n",
      "https://raw.githubusercontent.com/catedu/abies-lectores/master/img/opiniar.JPG\n",
      "https://raw.githubusercontent.com/catedu/abies-lectores/master/img/prestamoslectores.JPG\n",
      "https://raw.githubusercontent.com/catedu/abies-lectores/master/img/prorroga.JPG\n",
      "https://raw.githubusercontent.com/catedu/abies-lectores/master/.github/workflows/gitbook-action.yml\n"
     ]
    }
   ],
   "source": [
    "contents = books[0].get_contents(\"\")\n",
    "\n",
    "while contents:\n",
    "    file_content = contents.pop(0)\n",
    "    if file_content.type == \"dir\":\n",
    "        contents.extend(books[0].get_contents(file_content.path))\n",
    "    else:\n",
    "        print(file_content.download_url)"
   ]
  },
  {
   "cell_type": "code",
   "execution_count": 23,
   "id": "9adec4d7-839d-4251-8270-2b7f5d654c3d",
   "metadata": {},
   "outputs": [
    {
     "data": {
      "text/plain": [
       "0"
      ]
     },
     "execution_count": 23,
     "metadata": {},
     "output_type": "execute_result"
    }
   ],
   "source": [
    "os.system(\"you-get -o files -O test https://raw.githubusercontent.com/catedu/abies-lectores/master/img/consultarOpiniones.JPG\")"
   ]
  },
  {
   "cell_type": "code",
   "execution_count": null,
   "id": "32face9d-383b-4faf-afea-852271aa619a",
   "metadata": {},
   "outputs": [],
   "source": []
  }
 ],
 "metadata": {
  "kernelspec": {
   "display_name": "Django Shell-Plus",
   "language": "python",
   "name": "django_extensions"
  },
  "language_info": {
   "codemirror_mode": {
    "name": "ipython",
    "version": 3
   },
   "file_extension": ".py",
   "mimetype": "text/x-python",
   "name": "python",
   "nbconvert_exporter": "python",
   "pygments_lexer": "ipython3",
   "version": "3.9.1"
  }
 },
 "nbformat": 4,
 "nbformat_minor": 5
}
