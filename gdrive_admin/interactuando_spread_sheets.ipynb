{
 "cells": [
  {
   "cell_type": "markdown",
   "id": "59f9d28e-5f35-43b6-886f-848e14f2ee6a",
   "metadata": {},
   "source": [
    "# Interactuando con SpreadSheets de google\n",
    "\n",
    "Documentación del paquete [pygsheets](https://pygsheets.readthedocs.io/en/staging/)"
   ]
  },
  {
   "cell_type": "markdown",
   "id": "8fb8323a-316a-4528-a461-d5ab0d5baeb0",
   "metadata": {},
   "source": [
    "## Descargo los ids de los cursos"
   ]
  },
  {
   "cell_type": "code",
   "execution_count": 31,
   "id": "d0cd08d1-e793-46e1-a70a-35709cc4f6cb",
   "metadata": {},
   "outputs": [],
   "source": [
    "import pygsheets\n",
    "\n",
    "gc = pygsheets.authorize()"
   ]
  },
  {
   "cell_type": "code",
   "execution_count": 80,
   "id": "86244aaf-523a-4e14-a72d-f828c22b95cc",
   "metadata": {},
   "outputs": [],
   "source": [
    "sh = gc.open('CURSOS-CONTENIDOS-REQUISITOS-OBJETIVOS')\n",
    "hoja_web = sh.worksheet_by_title('Para web')"
   ]
  },
  {
   "cell_type": "code",
   "execution_count": 33,
   "id": "70714322-db9f-4335-9ea9-af42f47a7cbc",
   "metadata": {},
   "outputs": [],
   "source": [
    "cursos_ids = hoja_web.range(\"G2:G122\", returnas=\"range\")"
   ]
  },
  {
   "cell_type": "code",
   "execution_count": 4,
   "id": "0f83da9f-bd48-424d-aea3-1d2d199ab1b2",
   "metadata": {},
   "outputs": [],
   "source": [
    "cursos_ids = [curso[0].value for curso in cursos_ids.cells]"
   ]
  },
  {
   "cell_type": "code",
   "execution_count": 5,
   "id": "3799bf96-59ae-474b-8a86-3916933ec6e2",
   "metadata": {
    "collapsed": true,
    "jupyter": {
     "outputs_hidden": true
    },
    "tags": []
   },
   "outputs": [
    {
     "data": {
      "text/plain": [
       "['79',\n",
       " '78',\n",
       " '479',\n",
       " '77',\n",
       " '38',\n",
       " '92',\n",
       " '85',\n",
       " '163',\n",
       " '57',\n",
       " '931',\n",
       " '919',\n",
       " '914',\n",
       " '61',\n",
       " '84',\n",
       " '1047',\n",
       " '488',\n",
       " '329',\n",
       " '39',\n",
       " '109',\n",
       " '1037',\n",
       " '168',\n",
       " '41',\n",
       " '42',\n",
       " '43',\n",
       " '955',\n",
       " '112',\n",
       " '4',\n",
       " '489',\n",
       " '476',\n",
       " '44',\n",
       " '6',\n",
       " '5',\n",
       " '90',\n",
       " '3',\n",
       " '45',\n",
       " '46',\n",
       " '47',\n",
       " '48',\n",
       " '49',\n",
       " '307',\n",
       " '374',\n",
       " '209',\n",
       " '167',\n",
       " '166',\n",
       " '254',\n",
       " '426',\n",
       " '165',\n",
       " '925',\n",
       " '86',\n",
       " '920',\n",
       " '40',\n",
       " '111',\n",
       " '253',\n",
       " '7',\n",
       " '99',\n",
       " '304',\n",
       " '252',\n",
       " '260',\n",
       " '52',\n",
       " '53',\n",
       " '55',\n",
       " '427',\n",
       " '923',\n",
       " '56',\n",
       " '164',\n",
       " '1049',\n",
       " '54',\n",
       " '81',\n",
       " '160',\n",
       " '173',\n",
       " '159',\n",
       " '174',\n",
       " '171',\n",
       " '169',\n",
       " '172',\n",
       " '178',\n",
       " '179',\n",
       " '422',\n",
       " '421',\n",
       " '944',\n",
       " '946',\n",
       " '947',\n",
       " '948',\n",
       " '949',\n",
       " '950',\n",
       " '928',\n",
       " '1044',\n",
       " '160',\n",
       " '173',\n",
       " '1050',\n",
       " '174',\n",
       " '169',\n",
       " '178',\n",
       " '179',\n",
       " '1053',\n",
       " '422',\n",
       " '1038',\n",
       " '1039',\n",
       " '1040',\n",
       " '1041',\n",
       " '1042',\n",
       " '1046',\n",
       " '171',\n",
       " '1042',\n",
       " '1051',\n",
       " '421',\n",
       " '1052',\n",
       " '1043',\n",
       " '483',\n",
       " '1055',\n",
       " '1048',\n",
       " '1090',\n",
       " '1094',\n",
       " '1095',\n",
       " '1096',\n",
       " '1097',\n",
       " '1098',\n",
       " '1099',\n",
       " '0',\n",
       " '87',\n",
       " '7']"
      ]
     },
     "execution_count": 5,
     "metadata": {},
     "output_type": "execute_result"
    }
   ],
   "source": [
    "cursos_ids"
   ]
  },
  {
   "cell_type": "markdown",
   "id": "4fa3816d-43be-4ae2-93fe-9a7ccdb114ba",
   "metadata": {},
   "source": [
    "## Obteniendo la imagen de cabecera de los cursos"
   ]
  },
  {
   "cell_type": "code",
   "execution_count": 1,
   "id": "eac3e76d-87c7-4684-ac80-b10bffeb4ad6",
   "metadata": {
    "tags": []
   },
   "outputs": [],
   "source": [
    "import mechanicalsoup\n",
    "from dotenv import load_dotenv\n",
    "import os\n",
    "\n",
    "load_dotenv()\n",
    "\n",
    "ADMIN_USER = os.getenv(\"AULARAGON_ADMIN_USER\")\n",
    "PASSWORD = os.getenv(\"AULARAGON_ADMIN_PASSWORD\")"
   ]
  },
  {
   "cell_type": "code",
   "execution_count": 7,
   "id": "3f13be3f-5055-4b56-be60-ad62b91cbfea",
   "metadata": {},
   "outputs": [],
   "source": [
    "def get_ms_admin_browser():\n",
    "    browser = mechanicalsoup.StatefulBrowser()\n",
    "    browser.open(\"https://moodle.catedu.es/login/index.php\")\n",
    "    browser.select_form()\n",
    "    browser[\"username\"] = ADMIN_USER\n",
    "    browser[\"password\"] = PASSWORD\n",
    "    browser.submit_selected()\n",
    "    return browser\n",
    "\n",
    "def get_course_image(browser, course_id):\n",
    "    browser.open(f\"https://moodle.catedu.es/course/view.php?id={course_id}\")\n",
    "    page = browser.get_current_page()\n",
    "    course_image = page.find(\"div\", class_=\"course-header-image\")\n",
    "    image_url = course_image.get('style').split('url(\"')[1].split('\"); -webkit')[0]\n",
    "    return course_id, image_url\n",
    "    \n",
    "no_image = ['', '#N/A', '0']\n",
    "course_images = {}\n",
    "browser = get_ms_admin_browser()\n",
    "for curso in cursos_ids:\n",
    "    if curso not in no_image:\n",
    "        curso_id, curso_image = get_course_image(browser, curso)\n",
    "        course_images[curso_id] = curso_image"
   ]
  },
  {
   "cell_type": "code",
   "execution_count": 8,
   "id": "cf5ef155-c3d2-4fc9-8b12-353de7c0cbdb",
   "metadata": {},
   "outputs": [
    {
     "data": {
      "text/plain": [
       "109"
      ]
     },
     "execution_count": 8,
     "metadata": {},
     "output_type": "execute_result"
    }
   ],
   "source": [
    "len(course_images)"
   ]
  },
  {
   "cell_type": "markdown",
   "id": "33b30445-2493-47cb-a798-caeba9390d41",
   "metadata": {},
   "source": [
    "## Añadiendo la imagen de portada a la hoja de cálculo"
   ]
  },
  {
   "cell_type": "code",
   "execution_count": 12,
   "id": "fa2f8ba7-dec2-4279-95bf-ba2834ff4d69",
   "metadata": {},
   "outputs": [],
   "source": [
    "cursos_imagenes_url= hoja_web.range(\"G2:H122\", returnas=\"range\")"
   ]
  },
  {
   "cell_type": "code",
   "execution_count": null,
   "id": "2df09838-728f-4100-9057-03d224cd90b7",
   "metadata": {},
   "outputs": [],
   "source": [
    "for row in cursos_imagenes_url:\n",
    "    try:\n",
    "        if row[0].value in list(course_images.keys()):\n",
    "            row[1].set_value(course_images[row[0].value])\n",
    "    except:\n",
    "        print(\"no sé qué ha pasado\")"
   ]
  },
  {
   "cell_type": "markdown",
   "id": "b182fbba-bc65-40b7-817f-f98354a73090",
   "metadata": {},
   "source": [
    "## Obteniendo etiquetas"
   ]
  },
  {
   "cell_type": "code",
   "execution_count": 18,
   "id": "b5b5c2a7-6f8b-4e26-8be5-b6b80cf5d908",
   "metadata": {},
   "outputs": [],
   "source": [
    "import moodle_admin.moodle_api as mp\n",
    "import pandas as pd\n",
    "pd.options.mode.chained_assignment = None  # default='warn'"
   ]
  },
  {
   "cell_type": "code",
   "execution_count": 1,
   "id": "cb50c507-9484-4925-9093-b7666102f24a",
   "metadata": {},
   "outputs": [],
   "source": [
    "courses = mp.call(\"core_course_get_courses\")\n",
    "df = pd.DataFrame(courses)"
   ]
  },
  {
   "cell_type": "code",
   "execution_count": 2,
   "id": "beb3e285-92df-4a18-aeb0-94957c55acf4",
   "metadata": {},
   "outputs": [],
   "source": [
    "df_categorias = pd.read_csv(\"listado_cursos.csv\")"
   ]
  },
  {
   "cell_type": "code",
   "execution_count": 3,
   "id": "9b1f8cd7-dd81-41df-8c8f-49ccc11dc5bf",
   "metadata": {},
   "outputs": [
    {
     "data": {
      "text/html": [
       "<div>\n",
       "<style scoped>\n",
       "    .dataframe tbody tr th:only-of-type {\n",
       "        vertical-align: middle;\n",
       "    }\n",
       "\n",
       "    .dataframe tbody tr th {\n",
       "        vertical-align: top;\n",
       "    }\n",
       "\n",
       "    .dataframe thead th {\n",
       "        text-align: right;\n",
       "    }\n",
       "</style>\n",
       "<table border=\"1\" class=\"dataframe\">\n",
       "  <thead>\n",
       "    <tr style=\"text-align: right;\">\n",
       "      <th></th>\n",
       "      <th>id</th>\n",
       "      <th>category</th>\n",
       "      <th>shortname</th>\n",
       "      <th>fullname</th>\n",
       "      <th>visible</th>\n",
       "    </tr>\n",
       "  </thead>\n",
       "  <tbody>\n",
       "    <tr>\n",
       "      <th>0</th>\n",
       "      <td>1</td>\n",
       "      <td>0</td>\n",
       "      <td>Aularagón</td>\n",
       "      <td>Aularagón</td>\n",
       "      <td>1</td>\n",
       "    </tr>\n",
       "    <tr>\n",
       "      <th>1</th>\n",
       "      <td>3</td>\n",
       "      <td>Top/Cursos activos/AULARAGON/Destrezas digital...</td>\n",
       "      <td>LIBREOFFICE</td>\n",
       "      <td>LibreOffice: La suite ofimática libre</td>\n",
       "      <td>1</td>\n",
       "    </tr>\n",
       "    <tr>\n",
       "      <th>2</th>\n",
       "      <td>4</td>\n",
       "      <td>Top/Cursos activos/AULARAGON/Otros</td>\n",
       "      <td>ING-DUOLINGO</td>\n",
       "      <td>Inglés Duolingo</td>\n",
       "      <td>1</td>\n",
       "    </tr>\n",
       "    <tr>\n",
       "      <th>3</th>\n",
       "      <td>5</td>\n",
       "      <td>Top/Cursos activos/AULARAGON/STEAM/Pensamiento...</td>\n",
       "      <td>Radio</td>\n",
       "      <td>La Radio en la Escuela</td>\n",
       "      <td>1</td>\n",
       "    </tr>\n",
       "    <tr>\n",
       "      <th>4</th>\n",
       "      <td>6</td>\n",
       "      <td>Top/Cursos activos/AULARAGON/STEAM/Pensamiento...</td>\n",
       "      <td>FLAUTA</td>\n",
       "      <td>La enseñanza-aprendizaje de la flauta escolar</td>\n",
       "      <td>1</td>\n",
       "    </tr>\n",
       "    <tr>\n",
       "      <th>...</th>\n",
       "      <td>...</td>\n",
       "      <td>...</td>\n",
       "      <td>...</td>\n",
       "      <td>...</td>\n",
       "      <td>...</td>\n",
       "    </tr>\n",
       "    <tr>\n",
       "      <th>787</th>\n",
       "      <td>1096</td>\n",
       "      <td>Top/Cursos activos/AULARAGON/Itinerarios forma...</td>\n",
       "      <td>MascDiver_VisiIdent_EduAfecSex</td>\n",
       "      <td>MASCULINIDADES DIVERSAS. VISIBILIZACIÓN DE IDE...</td>\n",
       "      <td>1</td>\n",
       "    </tr>\n",
       "    <tr>\n",
       "      <th>788</th>\n",
       "      <td>1097</td>\n",
       "      <td>Top/Cursos activos/AULARAGON/Itinerarios forma...</td>\n",
       "      <td>ErraViol</td>\n",
       "      <td>ERRADICACIÓN DE LA VIOLENCIA</td>\n",
       "      <td>1</td>\n",
       "    </tr>\n",
       "    <tr>\n",
       "      <th>789</th>\n",
       "      <td>1098</td>\n",
       "      <td>Top/Cursos activos/AULARAGON/Itinerarios forma...</td>\n",
       "      <td>Intersec_ConsIden_Cult</td>\n",
       "      <td>INTERSECCIONALIDAD. CONSTRUCCIÓN DE IDENTIDADE...</td>\n",
       "      <td>1</td>\n",
       "    </tr>\n",
       "    <tr>\n",
       "      <th>790</th>\n",
       "      <td>1099</td>\n",
       "      <td>Top/Cursos activos/AULARAGON/Itinerarios forma...</td>\n",
       "      <td>ConvIgualdad</td>\n",
       "      <td>CONVIVENCIA</td>\n",
       "      <td>1</td>\n",
       "    </tr>\n",
       "    <tr>\n",
       "      <th>791</th>\n",
       "      <td>1100</td>\n",
       "      <td>Top/Cursos activos/AULARAGON/Itinerarios forma...</td>\n",
       "      <td>TFI-E-IGU</td>\n",
       "      <td>TRABAJO FIN DE ITINERARIO</td>\n",
       "      <td>1</td>\n",
       "    </tr>\n",
       "  </tbody>\n",
       "</table>\n",
       "<p>792 rows × 5 columns</p>\n",
       "</div>"
      ],
      "text/plain": [
       "       id                                           category  \\\n",
       "0       1                                                  0   \n",
       "1       3  Top/Cursos activos/AULARAGON/Destrezas digital...   \n",
       "2       4                 Top/Cursos activos/AULARAGON/Otros   \n",
       "3       5  Top/Cursos activos/AULARAGON/STEAM/Pensamiento...   \n",
       "4       6  Top/Cursos activos/AULARAGON/STEAM/Pensamiento...   \n",
       "..    ...                                                ...   \n",
       "787  1096  Top/Cursos activos/AULARAGON/Itinerarios forma...   \n",
       "788  1097  Top/Cursos activos/AULARAGON/Itinerarios forma...   \n",
       "789  1098  Top/Cursos activos/AULARAGON/Itinerarios forma...   \n",
       "790  1099  Top/Cursos activos/AULARAGON/Itinerarios forma...   \n",
       "791  1100  Top/Cursos activos/AULARAGON/Itinerarios forma...   \n",
       "\n",
       "                          shortname  \\\n",
       "0                         Aularagón   \n",
       "1                       LIBREOFFICE   \n",
       "2                      ING-DUOLINGO   \n",
       "3                             Radio   \n",
       "4                            FLAUTA   \n",
       "..                              ...   \n",
       "787  MascDiver_VisiIdent_EduAfecSex   \n",
       "788                        ErraViol   \n",
       "789          Intersec_ConsIden_Cult   \n",
       "790                    ConvIgualdad   \n",
       "791                       TFI-E-IGU   \n",
       "\n",
       "                                              fullname  visible  \n",
       "0                                            Aularagón        1  \n",
       "1                LibreOffice: La suite ofimática libre        1  \n",
       "2                                      Inglés Duolingo        1  \n",
       "3                               La Radio en la Escuela        1  \n",
       "4        La enseñanza-aprendizaje de la flauta escolar        1  \n",
       "..                                                 ...      ...  \n",
       "787  MASCULINIDADES DIVERSAS. VISIBILIZACIÓN DE IDE...        1  \n",
       "788                       ERRADICACIÓN DE LA VIOLENCIA        1  \n",
       "789  INTERSECCIONALIDAD. CONSTRUCCIÓN DE IDENTIDADE...        1  \n",
       "790                                        CONVIVENCIA        1  \n",
       "791                          TRABAJO FIN DE ITINERARIO        1  \n",
       "\n",
       "[792 rows x 5 columns]"
      ]
     },
     "execution_count": 3,
     "metadata": {},
     "output_type": "execute_result"
    }
   ],
   "source": [
    "df_categorias"
   ]
  },
  {
   "cell_type": "code",
   "execution_count": 4,
   "id": "c1e90907-9629-46c0-a125-3eb6b727b780",
   "metadata": {},
   "outputs": [],
   "source": [
    "df_categorias = df_categorias[df_categorias[\"category\"].str.contains(\"/AULARAGON/\")]"
   ]
  },
  {
   "cell_type": "code",
   "execution_count": 19,
   "id": "ca27822e-6506-40ee-b9c0-5078cb23a2f6",
   "metadata": {},
   "outputs": [],
   "source": [
    "df_categorias[\"etiquetas\"] = df_categorias[\"category\"].str.split(\"/AULARAGON/\").str[1].str.split(\"/\").str.join(\",\")"
   ]
  },
  {
   "cell_type": "code",
   "execution_count": 35,
   "id": "e32431c2-ccbc-4aa2-bdbb-02bbf8fc8bb1",
   "metadata": {},
   "outputs": [],
   "source": [
    "df_etiquetas = df_categorias[[\"id\",\"etiquetas\"]]"
   ]
  },
  {
   "cell_type": "markdown",
   "id": "2111cc16-f7c9-4ca7-ae30-66e99cf26882",
   "metadata": {},
   "source": [
    "## Añadiendo etiquetas"
   ]
  },
  {
   "cell_type": "code",
   "execution_count": 81,
   "id": "55a3af6e-4c04-4efa-836b-8839c285e589",
   "metadata": {},
   "outputs": [],
   "source": [
    "lista_etiquetas = {str(item['id']): item['etiquetas'] for item in df_etiquetas.to_dict('records')}"
   ]
  },
  {
   "cell_type": "code",
   "execution_count": null,
   "id": "019d2907-50a5-4d2d-8842-fc5ad4532219",
   "metadata": {},
   "outputs": [],
   "source": [
    "cursos_etiquetas_google = hoja_web.range(\"E91:G122\", returnas=\"range\")\n",
    "for row in cursos_etiquetas_google:\n",
    "    try:\n",
    "        row[0].set_value(lista_etiquetas[row[2].value])\n",
    "    except:\n",
    "        row[0].set_value(\"Otros\")"
   ]
  },
  {
   "cell_type": "code",
   "execution_count": null,
   "id": "f8006931-0c43-49b7-bf1a-c56693276e73",
   "metadata": {},
   "outputs": [],
   "source": []
  }
 ],
 "metadata": {
  "kernelspec": {
   "display_name": "Django Shell-Plus",
   "language": "python",
   "name": "django_extensions"
  },
  "language_info": {
   "codemirror_mode": {
    "name": "ipython",
    "version": 3
   },
   "file_extension": ".py",
   "mimetype": "text/x-python",
   "name": "python",
   "nbconvert_exporter": "python",
   "pygments_lexer": "ipython3",
   "version": "3.8.5"
  }
 },
 "nbformat": 4,
 "nbformat_minor": 5
}
