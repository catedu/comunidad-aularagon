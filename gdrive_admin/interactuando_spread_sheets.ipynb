{
 "cells": [
  {
   "cell_type": "markdown",
   "id": "59f9d28e-5f35-43b6-886f-848e14f2ee6a",
   "metadata": {},
   "source": [
    "# Interactuando con SpreadSheets de google\n",
    "\n",
    "Documentación del paquete [pygsheets](https://pygsheets.readthedocs.io/en/staging/)"
   ]
  },
  {
   "cell_type": "markdown",
   "id": "8fb8323a-316a-4528-a461-d5ab0d5baeb0",
   "metadata": {},
   "source": [
    "## Descargo los ids de los cursos"
   ]
  },
  {
   "cell_type": "code",
   "execution_count": 34,
   "id": "d0cd08d1-e793-46e1-a70a-35709cc4f6cb",
   "metadata": {},
   "outputs": [],
   "source": [
    "import pygsheets\n",
    "\n",
    "gc = pygsheets.authorize()"
   ]
  },
  {
   "cell_type": "code",
   "execution_count": 35,
   "id": "86244aaf-523a-4e14-a72d-f828c22b95cc",
   "metadata": {},
   "outputs": [],
   "source": [
    "sh = gc.open('CURSOS-CONTENIDOS-REQUISITOS-OBJETIVOS')\n",
    "hoja_web = sh.worksheet_by_title('Para web')"
   ]
  },
  {
   "cell_type": "code",
   "execution_count": 42,
   "id": "70714322-db9f-4335-9ea9-af42f47a7cbc",
   "metadata": {},
   "outputs": [],
   "source": [
    "cursos_ids = hoja_web.range(\"G2:G122\", returnas=\"range\")"
   ]
  },
  {
   "cell_type": "code",
   "execution_count": 43,
   "id": "0f83da9f-bd48-424d-aea3-1d2d199ab1b2",
   "metadata": {},
   "outputs": [],
   "source": [
    "cursos_ids = [curso[0].value for curso in cursos_ids.cells]"
   ]
  },
  {
   "cell_type": "code",
   "execution_count": 44,
   "id": "3799bf96-59ae-474b-8a86-3916933ec6e2",
   "metadata": {
    "collapsed": true,
    "jupyter": {
     "outputs_hidden": true
    },
    "tags": []
   },
   "outputs": [
    {
     "data": {
      "text/plain": [
       "['79',\n",
       " '78',\n",
       " '479',\n",
       " '77',\n",
       " '38',\n",
       " '92',\n",
       " '85',\n",
       " '163',\n",
       " '57',\n",
       " '0',\n",
       " '919',\n",
       " '914',\n",
       " '61',\n",
       " '84',\n",
       " '0',\n",
       " '488',\n",
       " '329',\n",
       " '39',\n",
       " '109',\n",
       " '0',\n",
       " '168',\n",
       " '41',\n",
       " '42',\n",
       " '43',\n",
       " '955',\n",
       " '112',\n",
       " '4',\n",
       " '489',\n",
       " '476',\n",
       " '44',\n",
       " '6',\n",
       " '5',\n",
       " '90',\n",
       " '3',\n",
       " '45',\n",
       " '46',\n",
       " '47',\n",
       " '48',\n",
       " '49',\n",
       " '307',\n",
       " '374',\n",
       " '209',\n",
       " '167',\n",
       " '166',\n",
       " '254',\n",
       " '426',\n",
       " '165',\n",
       " '925',\n",
       " '86',\n",
       " '920',\n",
       " '40',\n",
       " '111',\n",
       " '253',\n",
       " '7',\n",
       " '99',\n",
       " '304',\n",
       " '252',\n",
       " '260',\n",
       " '52',\n",
       " '53',\n",
       " '55',\n",
       " '427',\n",
       " '923',\n",
       " '56',\n",
       " '164',\n",
       " '0',\n",
       " '54',\n",
       " '81',\n",
       " '160',\n",
       " '173',\n",
       " '159',\n",
       " '174',\n",
       " '171',\n",
       " '169',\n",
       " '172',\n",
       " '178',\n",
       " '179',\n",
       " '422',\n",
       " '421',\n",
       " '944',\n",
       " '946',\n",
       " '947',\n",
       " '948',\n",
       " '949',\n",
       " '950',\n",
       " '928',\n",
       " '0',\n",
       " '0',\n",
       " '0',\n",
       " '0',\n",
       " '0',\n",
       " '0',\n",
       " '0',\n",
       " '0',\n",
       " '0',\n",
       " '0',\n",
       " '0',\n",
       " '0',\n",
       " '0',\n",
       " '0',\n",
       " '0',\n",
       " '0',\n",
       " '0',\n",
       " '0',\n",
       " '0',\n",
       " '0',\n",
       " '0',\n",
       " '0',\n",
       " '0',\n",
       " '0',\n",
       " '0',\n",
       " '#N/A',\n",
       " '1094',\n",
       " '',\n",
       " '',\n",
       " '',\n",
       " '#N/A',\n",
       " '',\n",
       " '',\n",
       " '#N/A',\n",
       " '7']"
      ]
     },
     "execution_count": 44,
     "metadata": {},
     "output_type": "execute_result"
    }
   ],
   "source": [
    "cursos_ids"
   ]
  },
  {
   "cell_type": "markdown",
   "id": "4fa3816d-43be-4ae2-93fe-9a7ccdb114ba",
   "metadata": {},
   "source": [
    "## Obteniendo la imagen de cabecera de los cursos"
   ]
  },
  {
   "cell_type": "code",
   "execution_count": 16,
   "id": "eac3e76d-87c7-4684-ac80-b10bffeb4ad6",
   "metadata": {
    "tags": []
   },
   "outputs": [],
   "source": [
    "import mechanicalsoup\n",
    "from dotenv import load_dotenv\n",
    "import os\n",
    "\n",
    "load_dotenv()\n",
    "\n",
    "ADMIN_USER = os.getenv(\"AULARAGON_ADMIN_USER\")\n",
    "PASSWORD = os.getenv(\"AULARAGON_ADMIN_PASSWORD\")"
   ]
  },
  {
   "cell_type": "code",
   "execution_count": 55,
   "id": "3f13be3f-5055-4b56-be60-ad62b91cbfea",
   "metadata": {},
   "outputs": [],
   "source": [
    "def get_ms_admin_browser():\n",
    "    browser = mechanicalsoup.StatefulBrowser()\n",
    "    browser.open(\"https://moodle.catedu.es/login/index.php\")\n",
    "    browser.select_form()\n",
    "    browser[\"username\"] = ADMIN_USER\n",
    "    browser[\"password\"] = PASSWORD\n",
    "    browser.submit_selected()\n",
    "    return browser\n",
    "\n",
    "def get_course_image(browser, course_id):\n",
    "    browser.open(f\"https://moodle.catedu.es/course/view.php?id={course_id}\")\n",
    "    page = browser.get_current_page()\n",
    "    course_image = page.find(\"div\", class_=\"course-header-image\")\n",
    "    image_url = course_image.get('style').split('url(\"')[1].split('\"); -webkit')[0]\n",
    "    return course_id, image_url\n",
    "    \n",
    "no_image = ['', '#N/A', '0']\n",
    "course_images = {}\n",
    "browser = get_ms_admin_browser()\n",
    "for curso in cursos_ids:\n",
    "    if curso not in no_image:\n",
    "        curso_id, curso_image = get_course_image(browser, curso)\n",
    "        course_images[curso_id] = curso_image"
   ]
  },
  {
   "cell_type": "code",
   "execution_count": 57,
   "id": "cf5ef155-c3d2-4fc9-8b12-353de7c0cbdb",
   "metadata": {},
   "outputs": [
    {
     "data": {
      "text/plain": [
       "83"
      ]
     },
     "execution_count": 57,
     "metadata": {},
     "output_type": "execute_result"
    }
   ],
   "source": [
    "len(course_images)"
   ]
  },
  {
   "cell_type": "markdown",
   "id": "33b30445-2493-47cb-a798-caeba9390d41",
   "metadata": {},
   "source": [
    "## Añadiendo la imagen de portada a la hoja de cálculo"
   ]
  },
  {
   "cell_type": "code",
   "execution_count": 65,
   "id": "fa2f8ba7-dec2-4279-95bf-ba2834ff4d69",
   "metadata": {},
   "outputs": [],
   "source": [
    "cursos_imagenes_url= hoja_web.range(\"G2:H122\", returnas=\"range\")"
   ]
  },
  {
   "cell_type": "code",
   "execution_count": 66,
   "id": "7ea9e711-fa96-4103-9132-81c40cd3dabf",
   "metadata": {},
   "outputs": [
    {
     "data": {
      "text/plain": [
       "<Cell H2 '0'>"
      ]
     },
     "execution_count": 66,
     "metadata": {},
     "output_type": "execute_result"
    }
   ],
   "source": [
    "cursos_imagenes_url[0][1].set_value(0)"
   ]
  },
  {
   "cell_type": "code",
   "execution_count": null,
   "id": "2df09838-728f-4100-9057-03d224cd90b7",
   "metadata": {},
   "outputs": [],
   "source": [
    "for row in cursos_imagenes_url:\n",
    "    try:\n",
    "        if row[0].value in list(course_images.keys()):\n",
    "            row[1].set_value(course_images[row[0].value])\n",
    "    except:\n",
    "        print(\"no sé qué ha pasado\")"
   ]
  }
 ],
 "metadata": {
  "kernelspec": {
   "display_name": "Django Shell-Plus",
   "language": "python",
   "name": "django_extensions"
  },
  "language_info": {
   "codemirror_mode": {
    "name": "ipython",
    "version": 3
   },
   "file_extension": ".py",
   "mimetype": "text/x-python",
   "name": "python",
   "nbconvert_exporter": "python",
   "pygments_lexer": "ipython3",
   "version": "3.8.5"
  }
 },
 "nbformat": 4,
 "nbformat_minor": 5
}
