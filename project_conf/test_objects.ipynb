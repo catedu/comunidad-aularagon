{
 "cells": [
  {
   "cell_type": "code",
   "execution_count": 4,
   "id": "bd9a07d7-b92f-4e11-8b70-a6371226dfe4",
   "metadata": {},
   "outputs": [],
   "source": [
    "from wagtailmenus.models import FlatMenu, FlatMenuItem\n",
    "from books.models import BookIndexPage"
   ]
  },
  {
   "cell_type": "code",
   "execution_count": 3,
   "id": "01aa9f8d-65bb-4f76-97c2-e72900ae262c",
   "metadata": {},
   "outputs": [
    {
     "data": {
      "text/plain": [
       "<QuerySet [<FlatMenu: Escribiendo en Wagtail (escribiendo-en-wagtail)>]>"
      ]
     },
     "execution_count": 3,
     "metadata": {},
     "output_type": "execute_result"
    }
   ],
   "source": [
    "FlatMenu.objects.filter(id=4)"
   ]
  },
  {
   "cell_type": "code",
   "execution_count": 5,
   "id": "60e30a23-acbd-49ba-a680-d1218b410b02",
   "metadata": {},
   "outputs": [
    {
     "data": {
      "text/plain": [
       "<PageQuerySet [<BookIndexPage: Escribiendo en Wagtail>]>"
      ]
     },
     "execution_count": 5,
     "metadata": {},
     "output_type": "execute_result"
    }
   ],
   "source": [
    "BookIndexPage.objects.filter(id=11)"
   ]
  },
  {
   "cell_type": "code",
   "execution_count": 6,
   "id": "1e4aaf94-09fb-4be4-bcfd-45e65a360154",
   "metadata": {},
   "outputs": [
    {
     "data": {
      "text/plain": [
       "<FlatMenuItem: Escribiendo en Wagtail>"
      ]
     },
     "execution_count": 6,
     "metadata": {},
     "output_type": "execute_result"
    }
   ],
   "source": [
    "FlatMenuItem.objects.create(link_page_id=11, menu_id=4, allow_subnav=1)"
   ]
  },
  {
   "cell_type": "code",
   "execution_count": null,
   "id": "9fe016c6-ce5f-443b-aa48-5007cd581018",
   "metadata": {},
   "outputs": [],
   "source": []
  }
 ],
 "metadata": {
  "kernelspec": {
   "display_name": "Django Shell-Plus",
   "language": "python",
   "name": "django_extensions"
  },
  "language_info": {
   "codemirror_mode": {
    "name": "ipython",
    "version": 3
   },
   "file_extension": ".py",
   "mimetype": "text/x-python",
   "name": "python",
   "nbconvert_exporter": "python",
   "pygments_lexer": "ipython3",
   "version": "3.8.5"
  }
 },
 "nbformat": 4,
 "nbformat_minor": 5
}
